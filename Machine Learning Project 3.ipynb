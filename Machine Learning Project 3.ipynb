{
 "cells": [
  {
   "cell_type": "code",
   "execution_count": 1,
   "id": "778de118",
   "metadata": {},
   "outputs": [],
   "source": [
    "### Machine Learning Project 3 -- By: Ryan Canfield -- Due: Mon May 1, 2023 5:00pm\n",
    "### In this project, you will continue to use the dataset that you have been using in Projects 1 and 2 to build\n",
    "### neural networks that can predict your target outcome from your set of features. \n",
    "\n",
    "## Part 1: Building a multi-layer perception using MLPClassifier in scikit-learn\n",
    "## In this part of the project, you will use MLPClassifier from the scikit-learn package in Python \n",
    "## to build a multi-layer perception.\n",
    "\n",
    "# Libraries/Modules/Imports used.\n",
    "import pandas as pd # Used for data analysis and manipulation.\n",
    "import numpy as np # Used for arrays, matrices, and high-level math functions. \n",
    "import matplotlib.pyplot as plt # Used for graphics and visuals.\n",
    "import seaborn as sns # Used for visuals as well as exploring the data.\n",
    "import os # Helps with operating system.\n",
    "import warnings # Used to suppress warning.\n",
    "warnings.filterwarnings(\"ignore\")\n",
    "\n",
    "import torch # Need this to generate torch tensors.\n",
    "import torch.nn as nn # Need this to run neural netowrks in Pytorch.\n",
    "from torch.utils.data import Dataset # Need this to have torch-compatible dataset.\n",
    "\n",
    "from sklearn.model_selection import train_test_split # Used for splitting data.\n",
    "from sklearn.preprocessing import MinMaxScaler # Used for scaling data.\n",
    "from sklearn.metrics import confusion_matrix, ConfusionMatrixDisplay # Used to create a confusion matrix.\n",
    "from sklearn.metrics import accuracy_score # Used to show accuracy.\n",
    "from sklearn.neural_network import MLPClassifier # Contains the NN MLP Classifier.\n"
   ]
  },
  {
   "cell_type": "code",
   "execution_count": 3,
   "id": "621f29a5",
   "metadata": {},
   "outputs": [
    {
     "name": "stdout",
     "output_type": "stream",
     "text": [
      "   age  sex  cp  trtbps  chol  fbs  restecg  thalachh  exng  oldpeak  slp  \\\n",
      "0   63    1   3     145   233    1        0       150     0      2.3    0   \n",
      "1   37    1   2     130   250    0        1       187     0      3.5    0   \n",
      "2   41    0   1     130   204    0        0       172     0      1.4    2   \n",
      "3   56    1   1     120   236    0        1       178     0      0.8    2   \n",
      "4   57    0   0     120   354    0        1       163     1      0.6    2   \n",
      "5   57    1   0     140   192    0        1       148     0      0.4    1   \n",
      "\n",
      "   caa  thall  output  \n",
      "0    0      1       1  \n",
      "1    0      2       1  \n",
      "2    0      2       1  \n",
      "3    0      2       1  \n",
      "4    0      2       1  \n",
      "5    0      1       1  \n",
      "(242, 13) (61, 13) (242,) (61,)\n"
     ]
    }
   ],
   "source": [
    "## 1. Split your data into a training and test set using the same instructions from prior projects.\n",
    "# Reading in the data.\n",
    "heart = pd.read_csv(\"C:/Users/RRC/OneDrive/Documents/CLASSES/YEAR 3/Semester 2/Machine Learning/Data Sets/heart.csv\") \n",
    "print(heart.head(6))\n",
    "\n",
    "# Splitting the data from the variables and the label\n",
    "X = heart.iloc[:, 0:13]\n",
    "y = heart.iloc[:, 13]\n",
    "y = np.where(y == 0, 0, 1) # Needs to happen to change from a dataframe to numpy array used for Train test split.\n",
    "\n",
    "# Scaling all the numerical columns (All data falls between 0 and 1).\n",
    "mms = MinMaxScaler()\n",
    "mms.fit(X)\n",
    "Xmm = mms.transform(X)\n",
    "\n",
    "# Splitting the data.\n",
    "X_train, X_test, y_train, y_test = train_test_split(Xmm, y, stratify = y, test_size = 0.2, random_state = 0)\n",
    "\n",
    "# Gets the dimensions of the all the split sets.\n",
    "print(X_train.shape, X_test.shape, y_train.shape, y_test.shape) # Checking to see if the split works.\n"
   ]
  },
  {
   "cell_type": "code",
   "execution_count": 4,
   "id": "6c25de2b",
   "metadata": {},
   "outputs": [
    {
     "name": "stdout",
     "output_type": "stream",
     "text": [
      "0.8429752066115702\n",
      "0.8264462809917356\n",
      "0.9834710743801653\n"
     ]
    }
   ],
   "source": [
    "## 2. Use your training data to fit a number of MLPClassifier() models with different numbers of hidden layers,\n",
    "## different numbers of hidden units, and different activation functions, similar to what you did in Homework 6.\n",
    "## For each model you create, print out the accuracy score to assess how each model is doing. For example, \n",
    "## for two different models, this is what your code might look like:\n",
    "\n",
    "# mlp1 and mlp2 were given.\n",
    "mlp1 = MLPClassifier(hidden_layer_sizes=(100,100), activation = 'logistic')\n",
    "mlp1.fit(X_train, y_train)\n",
    "print(mlp1.score(X_train, y_train))\n",
    "\n",
    "mlp2 = MLPClassifier(hidden_layer_sizes=(100,100,100,100,100), activation = 'identity')\n",
    "mlp2.fit(X_train, y_train)\n",
    "print(mlp2.score(X_train, y_train))\n",
    "\n",
    "## Play around with different parameters until you feel that you have found a good model (high accuracy score). \n",
    "## You do not need to show every single model that you fit in your code. However, you should test many different \n",
    "## combinations and track the parameters you tried and their outcome (i.e., the score) in a separate table or list that\n",
    "## you can include as text in your Python code or as a separate document. \n",
    "\n",
    "# Best model copied and tweaked from Homework 6.\n",
    "mlpbest = MLPClassifier(hidden_layer_sizes = (250, 125, 62, 30), activation = 'relu')\n",
    "mlpbest.fit(X_train, y_train)\n",
    "print(mlpbest.score(X_train, y_train))\n",
    "# Note: when using the logistic activation function the accuracy plumments to .54. \n"
   ]
  },
  {
   "cell_type": "code",
   "execution_count": 6,
   "id": "7beff1c8",
   "metadata": {},
   "outputs": [],
   "source": [
    "## 3. Once you have decided on your best model, take that model and generate predictions on your test set. For example,\n",
    "## let's say that my model stored in object \"mlp1\" ended up being my best model. This is what my prediction code might\n",
    "## look like:\n",
    "\n",
    "# y_pred = mlp1.predict(X_test)\n",
    "y_predbest = mlpbest.predict(X_test)\n"
   ]
  },
  {
   "cell_type": "code",
   "execution_count": 7,
   "id": "9b89db3d",
   "metadata": {},
   "outputs": [
    {
     "name": "stdout",
     "output_type": "stream",
     "text": [
      "The accuracy for the MLP Classifier on the test data is  0.8525\n"
     ]
    },
    {
     "data": {
      "image/png": "[encoded data removed]",
      "text/plain": [
       "<Figure size 432x288 with 2 Axes>"
      ]
     },
     "metadata": {
      "needs_background": "light"
     },
     "output_type": "display_data"
    }
   ],
   "source": [
    "## 4. Generate a confusion matrix and overall accuracy score to compare your actual outcome to the predicted labels. \n",
    "## Provide a 1-2 sentence description of the results. In addition, answer this question: Is the accuracy score of the\n",
    "## prediction on the test data higher or lower than the score of that model in step 2? If it is lower, provide some\n",
    "## reasons why you think that might be the case.   \n",
    "\n",
    "cf_matrixbest = confusion_matrix(y_test, y_predbest)\n",
    "cmdbest = ConfusionMatrixDisplay(cf_matrixbest,  display_labels = ['Less Likely', 'More Likely'])\n",
    "cmdbest.plot(cmap = 'rocket')\n",
    "cmdbest.ax_.set(xlabel = 'Predicted', ylabel = 'True', title = 'MLP classifier accuracy')\n",
    "\n",
    "print('The accuracy for the MLP Classifier on the test data is ','%.4f' %accuracy_score(y_test, y_predbest))\n",
    "\n",
    "# The accuracy when testing the accuracy on the test set was 85.25%, which was slightly higher then the training set which\n",
    "# had an accuracy of 83.47%. In the confusion matrix below it has 5 false positives (bottom left) and \n",
    "# 4 false neagatives (top right) as well as 23 correctly labeled patient that are less likely to have a heart attack\n",
    "# and 28 paitents that are more likely to have a hear attack.\n"
   ]
  },
  {
   "cell_type": "code",
   "execution_count": 8,
   "id": "8131652e",
   "metadata": {},
   "outputs": [],
   "source": [
    "## 5. Has this multi-layer perceptron that you've generated done better than the models in Projects 1 and 2? \n",
    "## Report the accuracy scores that you generated from the models in prior projects to provide evidence for your answer.  \n",
    "\n",
    "# This multi-layer perceptron has done better then all the models used in project 1 and project 2, with exception for the\n",
    "# Logestic Regression model in project 2. That had an accuracy of 88% when classifiying with the test set instead of \n",
    "# this models 85%. \n",
    "\n",
    "# The Other accuracies for the other two projects classiferes were:\n",
    "\n",
    "## Project #1\n",
    "# basic perceptron (learning rate 0.10) accuracy = 0.7705\n",
    "# basic perceptron (learning rate 0.25) accuracy = 0.8261\n",
    "# basic perceptron (learning rate 0.50) accuracy = 0.8033\n",
    "# basic perceptron (learning rate 0.22) accuracy = 0.7869\n",
    "\n",
    "## Project #2\n",
    "# basic AdalineSGD (learning rate 0.10) accuracy = 0.7541\n",
    "# basic LogisticRegressionSGD (learning rate 0.10) accuracy = 0.8689\n",
    "# best AdalineSGD (learning rate 0.01) accuracy = 0.8033\n",
    "# best LogisticRegressionSGD (learning rate 0.025) accuracy = 0.8852\n",
    "\n",
    "# From the table above we can see that it provides evidence that the LogisticRegressionSGD classifier was better\n",
    "# even when run on the basic settings. I'm not sure why because when you use a logestic activation method for the NN the\n",
    "# accuracy gets cut in half.\n"
   ]
  },
  {
   "cell_type": "code",
   "execution_count": 9,
   "id": "f8881791",
   "metadata": {},
   "outputs": [],
   "source": [
    "### Part 2: Building a multi-layer perception using torch.nn in PyTorch\n",
    "### In this part of the project, you will use PyTorch to build a multi-layer perception. \n",
    "\n",
    "## 1. Take the same training data you created in step 1 of Part 1 of this Project and run it through class FeatureDataset \n",
    "## (as you did in Homework 7) to generate a PyTorch-compatible dataset. Note: To do this, you may need to save your \n",
    "## training set to a csv file and then load it into class FeatureDataset. You do not need to do this for the test set. \n"
   ]
  },
  {
   "cell_type": "code",
   "execution_count": 7,
   "id": "76cc9192",
   "metadata": {},
   "outputs": [],
   "source": [
    "## Building a customized class called \"FeatureDataset\" that uses the torch Dataset function\n",
    "## to generate a dataset that is compatible with PyTorch\n",
    "\n",
    "class FeatureDataset(Dataset): \n",
    "    \n",
    "    # This defintion reads in our data set. Note that we do not split into a training and test set because \n",
    "    # at training the torch model can do this automatically\n",
    "    def __init__(self, file_name):\n",
    "    \n",
    "        # Read csv file and load row data into variables\n",
    "        file_out = pd.read_csv(file_name)\n",
    "        x = file_out.iloc[:, 0:13].values # Stores every column except for the last one in X\n",
    "        y = file_out.iloc[:, 13].values #You may need to change these based on your data set\n",
    "        \n",
    "        # Scaling the data with min max all data between 1 and 0 \n",
    "        mms = MinMaxScaler()\n",
    "        X = mms.fit_transform(x)\n",
    "        y = y\n",
    "\n",
    "        # Convert to torch tensors\n",
    "        self.X_batch = torch.tensor(X, dtype = torch.float32)\n",
    "        self.y_batch = torch.from_numpy(y).view(1, -1)[0].type(torch.LongTensor) #A change from last week's code\n",
    "        \n",
    "    # We use these next two functions to overwrite torch.Dataset's unimplemented methods. \n",
    "    # Do not make any edits to these two functions. \n",
    "    def __len__(self):\n",
    "        return len(self.y_batch)\n",
    "    \n",
    "    def __getitem__(self, idx):\n",
    "        return self.X_batch[idx], self.y_batch[idx]\n",
    "    "
   ]
  },
  {
   "cell_type": "code",
   "execution_count": 8,
   "id": "f86fd501",
   "metadata": {},
   "outputs": [],
   "source": [
    "# Converting it back into a data frame\n",
    "# X_train and y_train is from the second chunk \n",
    "df1 = pd.DataFrame(X_train, columns = ['age', 'sex', 'cp', 'trtbps', 'chol', 'fbs', 'restecg', \n",
    "                                       'thalachh', 'exng', 'oldpeak', 'slp', 'caa', 'thall'])\n",
    "df1['output'] = y_train\n",
    "\n",
    "df1.to_csv(\"C:/Users/RRC/OneDrive/Documents/CLASSES/YEAR 3/Semester 2/Machine Learning/Data Sets/modified_heart.csv\",\n",
    "           index = False)\n"
   ]
  },
  {
   "cell_type": "code",
   "execution_count": 9,
   "id": "55fec5d1",
   "metadata": {},
   "outputs": [
    {
     "name": "stdout",
     "output_type": "stream",
     "text": [
      "<torch.utils.data.dataloader.DataLoader object at 0x000002597C3B82B0>\n"
     ]
    }
   ],
   "source": [
    "## 2. Using your PyTorch-compatible dataset, set up a DataLoader for training your model. Set shuffle = True. \n",
    "## You also need to define a batch_size. The batch_size you use depends somewhat on the size of your dataset. \n",
    "## If you have a large dataset (>5000 rows), you may want to use a batch_size = 100. If you have a small dataset\n",
    "## (<200 rows), use may want to use a batch_size = 10.  \n",
    "\n",
    "## Creating a PyTorch-compatible dataset\n",
    "# Let's try again to convert our dataset to a toch-compatible dataset\n",
    "feature_set = FeatureDataset(\"C:/Users/RRC/OneDrive/Documents/CLASSES/YEAR 3/Semester 2/Machine Learning/Data Sets/modified_heart.csv\")\n",
    "    \n",
    "# Loading the data into the torch DataLoader function\n",
    "torched_heart = torch.utils.data.DataLoader(feature_set, batch_size = 1, shuffle = True)\n",
    "print(torched_heart)\n"
   ]
  },
  {
   "cell_type": "code",
   "execution_count": 10,
   "id": "28778485",
   "metadata": {},
   "outputs": [],
   "source": [
    "## 3. Modify the code for the Torch model that we used in class for the Iris dataset. You should have all your layers \n",
    "## defined in your model in the processing order from input to output. Here are some notes to keep in mind:\n",
    "\n",
    "## You must have at least 3 layers: one input layer, at least one hidden layer, and one output layer.\n",
    "## The row dimension of the input layer (in_features) should match the number of features in your training set.\n",
    "## The row dimension of the each hidden layer and the output layer should match the column dimension (out_features)\n",
    "## of the previous layer.\n",
    "## The model you create should match the best model you chose in Part 1 from MLPClassifier (i.e., with the same number\n",
    "## of hidden layer, same number of hidden units within each layer, and same activation functions). \n",
    "\n",
    "# This is the class where we will build our main neural network model with all our layers\n",
    "# Double check that these layers are correct\n",
    "class NeuralNetworkClassificationModel(nn.Module):\n",
    "    def __init__(self, input_dim, output_dim):\n",
    "        super(NeuralNetworkClassificationModel, self).__init__()\n",
    "        self.input_layer    = nn.Linear(input_dim, 250)\n",
    "        self.hidden_layer1  = nn.Linear(250, 250)\n",
    "        self.hidden_layer2  = nn.Linear(250, 125)\n",
    "        self.hidden_layer3  = nn.Linear(125, 62)\n",
    "        self.hidden_layer4  = nn.Linear(62, 30)\n",
    "        self.output_layer   = nn.Linear(30, output_dim)\n",
    "        self.relu           = nn.ReLU()\n",
    "        self.Sigmoid        = nn.Sigmoid()\n",
    "    \n",
    "    def forward(self, X):\n",
    "        out  =  self.relu(self.input_layer(X))\n",
    "        out2 =  self.relu(self.hidden_layer1(out))\n",
    "        out3 =  self.relu(self.hidden_layer2(out2))\n",
    "        out4 =  self.relu(self.hidden_layer3(out3))\n",
    "        out5 =  self.relu(self.hidden_layer4(out4))\n",
    "        out6 =  self.output_layer(out5)\n",
    "        return out6\n"
   ]
  },
  {
   "cell_type": "code",
   "execution_count": 11,
   "id": "e81a0ae9",
   "metadata": {},
   "outputs": [],
   "source": [
    "## 4. Train your model in a training loop (see the examples we did in class) using the batches of the data generated\n",
    "## from DataLoader. The parameters you need to define for the training loop are n_epochs, criterion, and optimizer.\n",
    "## You can either use the values we used in class or choose others as defined in the textbook. \n",
    "\n",
    "# Initializing the neural network model.\n",
    "n_epochs = 100 # number of iterations the model runs.\n",
    "input_dim  = 13 # number of columns/variables in X.\n",
    "output_dim = 2 # number of anwsers in target variable. \n",
    "\n",
    "# Defining other model params.\n",
    "model = NeuralNetworkClassificationModel(input_dim, output_dim)\n",
    "learning_rate = 0.001\n",
    "criterion = nn.CrossEntropyLoss()\n",
    "optimizer = torch.optim.Adam(model.parameters(), lr = learning_rate)\n",
    "\n",
    "# Running the neural network \n",
    "model.train()\n",
    "for epoch in range(n_epochs):\n",
    "    for X_batch, y_batch in torched_heart:\n",
    "        optimizer.zero_grad()\n",
    "        y_pred = model(X_batch)\n",
    "        loss = criterion(y_pred, y_batch)\n",
    "        loss.backward()\n",
    "        optimizer.step()\n",
    "        "
   ]
  },
  {
   "cell_type": "code",
   "execution_count": 12,
   "id": "77bb20a7",
   "metadata": {},
   "outputs": [],
   "source": [
    "## 5. Evaluate your model (see the examples we did in class) using your test data. You will need to convert your test\n",
    "## data to tensors in order to test the model. Pay attention to the data types (dtype = ) for your tensors, they should\n",
    "## match whatever data type you used for your training data. \n",
    "\n",
    "# Testing the model\n",
    "model.eval()\n",
    "X_test_torch = torch.tensor(X_test, dtype = torch.float32)\n",
    "y_pred = model(X_test_torch)\n",
    "final_pred = []\n",
    "for i in range(len(y_pred)):\n",
    "    final_pred.append(torch.argmax(y_pred[i]))\n"
   ]
  },
  {
   "cell_type": "code",
   "execution_count": 33,
   "id": "03df7828",
   "metadata": {},
   "outputs": [
    {
     "name": "stdout",
     "output_type": "stream",
     "text": [
      "Confusion Matrix\n",
      "The accuracy for the MLP Classifier on the test data is  0.8525\n"
     ]
    },
    {
     "data": {
      "image/png": "[encoded data removed]",
      "text/plain": [
       "<Figure size 432x288 with 2 Axes>"
      ]
     },
     "metadata": {
      "needs_background": "light"
     },
     "output_type": "display_data"
    }
   ],
   "source": [
    "## 6.  Generate a confusion matrix and overall accuracy score to compare your actual outcome\n",
    "## to the predicted labels. \n",
    "\n",
    "# Convert actual and predicted labels to numpy for accuracy_score function\n",
    "y_pred_final = np.array(final_pred)\n",
    "y_test_final = np.array(y_test)\n",
    "\n",
    "# Let's check how our model did \n",
    "print('Confusion Matrix')\n",
    "cf_matrix = confusion_matrix(y_test_final, y_pred_final)\n",
    "cmd = ConfusionMatrixDisplay(cf_matrix, display_labels = ['Less Likely (0)', 'More Likely(1)'])\n",
    "cmd.plot(cmap = 'mako')\n",
    "cmd.ax_.set(xlabel='Predicted', ylabel = 'True', title = 'Pytorch NN Classification')\n",
    "print('The accuracy for the MLP Classifier on the test data is ','%.4f' %accuracy_score(y_test_final, y_pred_final))\n"
   ]
  },
  {
   "cell_type": "code",
   "execution_count": 34,
   "id": "82fd6a3a",
   "metadata": {},
   "outputs": [
    {
     "data": {
      "image/png": "[encoded data removed]",
      "text/plain": [
       "<Figure size 936x360 with 4 Axes>"
      ]
     },
     "metadata": {
      "needs_background": "light"
     },
     "output_type": "display_data"
    },
    {
     "name": "stdout",
     "output_type": "stream",
     "text": [
      "The accuracy for the MLP Classifier on the test data is  0.8525\n",
      "The accuracy for the Pytorch NN Classifier on the test data is  0.8525\n"
     ]
    }
   ],
   "source": [
    "f, axes = plt.subplots(1, 2, figsize = (13, 5)) # Used to put the plots/confusion matrix on the same row\n",
    "\n",
    "# Confusion Maxtrix for Basic AdalineSGD classifier \n",
    "cf_matrixsklearnComp = confusion_matrix(y_test, y_predbest)\n",
    "disp = ConfusionMatrixDisplay(cf_matrixsklearnComp, display_labels = ['Less Likely','More Likely'])\n",
    "disp.plot(ax = axes[0], xticks_rotation = 45, cmap = 'rocket')\n",
    "disp.ax_.set_title('MLP classifier Heart Attack Classification')\n",
    "disp.ax_.set_xlabel('')\n",
    "disp.ax_.set_ylabel('True')\n",
    "\n",
    "# Confusion Matrix for Basic LogisticRegressionSGD classifier\n",
    "cf_matrixpyTorchComp = confusion_matrix(y_test_final, y_pred_final)\n",
    "disp2 = ConfusionMatrixDisplay(cf_matrixpyTorchComp, display_labels = ['Less Likely', 'More Likely'])\n",
    "disp2.plot(ax = axes[1], xticks_rotation = 45, cmap = 'mako')\n",
    "disp2.ax_.set_title('Pytorch NN Classification')\n",
    "disp2.ax_.set_xlabel('')\n",
    "disp2.ax_.set_ylabel('True')\n",
    "\n",
    "f.text(0.45, 0, 'Predicted', ha = 'left')\n",
    "plt.subplots_adjust(wspace = 0.30, hspace = 0.1)\n",
    "\n",
    "plt.show()\n",
    "print('The accuracy for the MLP Classifier on the test data is ','%.4f' %accuracy_score(y_test, y_predbest))\n",
    "print('The accuracy for the Pytorch NN Classifier on the test data is ','%.4f' %accuracy_score(y_test_final, y_pred_final))\n",
    "\n",
    "## Provide a 1-2 sentence description of the results. \n",
    "## Did the PyTorch model generate similar accuracy results to MLPClassifier? If the results are different,\n",
    "## what do you think is the reason(s) for the difference in results?\n",
    "\n",
    "# The Pytorch NN gave the exact results as the MLPClassifier they both gave an accuracy of 85.25%. \n",
    "# They also both misclassified the 5 false positives and 4 false neagatives. I think this is due to a small batch size\n",
    "# and limited data. The data set I used only had 300 rows and 13 variables. You can think of it like the iris dataset but\n",
    "# double the size, becasue of that reason that is why I think both classifiers have the same accuracy.\n"
   ]
  },
  {
   "cell_type": "code",
   "execution_count": null,
   "id": "baf7f4a8",
   "metadata": {},
   "outputs": [],
   "source": []
  }
 ],
 "metadata": {
  "kernelspec": {
   "display_name": "Python 3 (ipykernel)",
   "language": "python",
   "name": "python3"
  },
  "language_info": {
   "codemirror_mode": {
    "name": "ipython",
    "version": 3
   },
   "file_extension": ".py",
   "mimetype": "text/x-python",
   "name": "python",
   "nbconvert_exporter": "python",
   "pygments_lexer": "ipython3",
   "version": "3.9.7"
  }
 },
 "nbformat": 4,
 "nbformat_minor": 5
}
